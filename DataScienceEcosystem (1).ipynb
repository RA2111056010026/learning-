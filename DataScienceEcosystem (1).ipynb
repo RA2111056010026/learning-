{
  "metadata": {
    "kernelspec": {
      "name": "python",
      "display_name": "Python (Pyodide)",
      "language": "python"
    },
    "language_info": {
      "codemirror_mode": {
        "name": "python",
        "version": 3
      },
      "file_extension": ".py",
      "mimetype": "text/x-python",
      "name": "python",
      "nbconvert_exporter": "python",
      "pygments_lexer": "ipython3",
      "version": "3.8"
    }
  },
  "nbformat_minor": 5,
  "nbformat": 4,
  "cells": [
    {
      "id": "b317dce4-73c3-4c64-a795-782f30bea36a",
      "cell_type": "markdown",
      "source": "# Data Science Tools and Ecosystem",
      "metadata": {}
    },
    {
      "id": "1d67eeb1-e2de-4a65-bacd-f1a3bbb78d2c",
      "cell_type": "markdown",
      "source": "In this notebook, Data Science Tools and Ecosystem are summarized.",
      "metadata": {}
    },
    {
      "id": "f6e3027f-918b-4266-b002-71f2d549a865",
      "cell_type": "markdown",
      "source": "Some of the popular languages that Data Scientists use are:\n1. R\n2. Julia\n3. Python",
      "metadata": {}
    },
    {
      "id": "206474ae-57be-47a4-8e90-7e06bcb4a97d",
      "cell_type": "markdown",
      "source": "Some of the commonly used libraries used by Data Scientists include:\n1. Pandas\n2. Keras\n3. NumPy",
      "metadata": {}
    },
    {
      "id": "8b3c7ac7-a081-4060-b1df-09286edfa62d",
      "cell_type": "markdown",
      "source": "| Data Science Tools |\n| -------------|\n| RStudio |\n| Apache Spark |\n| Julia |",
      "metadata": {}
    },
    {
      "id": "071bfc48-ded8-4b8d-9a3a-1039df098927",
      "cell_type": "markdown",
      "source": "### Below are a few examples of evaluating arithmetic expressions in Python",
      "metadata": {}
    },
    {
      "id": "90e1f4ea-9c3f-4d5c-9300-618dae399fcf",
      "cell_type": "code",
      "source": "a=(3*4)+5\nprint(a)\n#This a simple arithmetic expression to mutiply then add integers",
      "metadata": {
        "trusted": true
      },
      "outputs": [
        {
          "name": "stdout",
          "text": "17\n",
          "output_type": "stream"
        }
      ],
      "execution_count": 7
    },
    {
      "id": "11f29f82-11dd-48bf-ab90-3ba81b21aca9",
      "cell_type": "code",
      "source": "c=200\nb=c/60\nprint(round(b,2))\n#This will convert 200 minutes to hours by diving by 60",
      "metadata": {
        "trusted": true
      },
      "outputs": [
        {
          "name": "stdout",
          "text": "3.33\n",
          "output_type": "stream"
        }
      ],
      "execution_count": 5
    },
    {
      "id": "9f30bf5c-9474-44f3-a1c0-c41a7fee4d0c",
      "cell_type": "markdown",
      "source": "__Objectives:__\n+ Popular languages used in data sciences\n+ Commonly used libraries used by Data Scientists\n+ Tools used by data science\n+ Few examples of arithmetic expressions\n+ Addition and Multiplication ",
      "metadata": {}
    },
    {
      "id": "5ea8a968-1bad-4f19-a18f-0c1386188b9b",
      "cell_type": "markdown",
      "source": "## Author\nEshaan tyagi ",
      "metadata": {}
    }
  ]
}